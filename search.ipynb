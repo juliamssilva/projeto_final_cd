{
 "cells": [
  {
   "cell_type": "markdown",
   "id": "ed72f06e-e824-4db3-8045-2d2982d08b19",
   "metadata": {},
   "source": [
    "## Qual jogador você seria?"
   ]
  },
  {
   "cell_type": "markdown",
   "id": "8a7d78d7-60bb-4ad3-b0fc-0dc9ca8b0896",
   "metadata": {},
   "source": [
    "Sistema de pesquisa, onde após inserir o valor de seus atributos seria possível identificar o jogador mais parecido com você."
   ]
  },
  {
   "cell_type": "markdown",
   "id": "878cea62-1842-42d7-ba7d-812fecf61b58",
   "metadata": {},
   "source": [
    "### 1º Passo - Importação"
   ]
  },
  {
   "cell_type": "markdown",
   "id": "7561bd16-a4a4-427f-b524-f26b55a85c18",
   "metadata": {},
   "source": [
    "Importando as bibliotecas necessárias e o dataset. No caso vamos importar um dataset ja criado no nosso documento de apresentação."
   ]
  },
  {
   "cell_type": "code",
   "execution_count": 1,
   "id": "a03cbbab-7aa8-4edf-9b6a-c0efccfb9cde",
   "metadata": {},
   "outputs": [],
   "source": [
    "import pandas as pd\n",
    "import numpy as np"
   ]
  },
  {
   "cell_type": "code",
   "execution_count": 2,
   "id": "3ebf3007-61d8-45a7-8aec-122e93544d80",
   "metadata": {},
   "outputs": [],
   "source": [
    "data = pd.read_csv('archive/male_players.csv',low_memory=False)"
   ]
  },
  {
   "cell_type": "markdown",
   "id": "b859cfd8-3cfb-46d8-905a-a2ba028db8d1",
   "metadata": {},
   "source": [
    "### 2º Passo - Preparação"
   ]
  },
  {
   "cell_type": "markdown",
   "id": "5bf2168f-d221-4b54-8a50-13d602c445ee",
   "metadata": {},
   "source": [
    "A partir do dataset principal iremos criar um dataset com as informações relevantes para nossa pesquisa."
   ]
  },
  {
   "cell_type": "code",
   "execution_count": 57,
   "id": "592eca6f-cd8d-4e4c-b775-5840a7c47f2e",
   "metadata": {},
   "outputs": [],
   "source": [
    "#Pegamos os atributos gerais mais significantes já que o dataset é muito extenso e possui muitas informações\n",
    "players = data[[\"short_name\",\"player_positions\",\"movement_sprint_speed\",\"defending_marking_awareness\",\n",
    "                          \"dribbling\",\"attacking_finishing\",\"attacking_short_passing\"]]\n",
    "\n",
    "#Substituindo as colunas que haviam Nan pelo valor \n",
    "players_attributes = players.fillna(0)\n"
   ]
  },
  {
   "cell_type": "code",
   "execution_count": 58,
   "id": "098b6584-6be1-40a4-91e8-6a2c90d57900",
   "metadata": {
    "scrolled": true
   },
   "outputs": [
    {
     "data": {
      "text/html": [
       "<div>\n",
       "<style scoped>\n",
       "    .dataframe tbody tr th:only-of-type {\n",
       "        vertical-align: middle;\n",
       "    }\n",
       "\n",
       "    .dataframe tbody tr th {\n",
       "        vertical-align: top;\n",
       "    }\n",
       "\n",
       "    .dataframe thead th {\n",
       "        text-align: right;\n",
       "    }\n",
       "</style>\n",
       "<table border=\"1\" class=\"dataframe\">\n",
       "  <thead>\n",
       "    <tr style=\"text-align: right;\">\n",
       "      <th></th>\n",
       "      <th>short_name</th>\n",
       "      <th>player_positions</th>\n",
       "      <th>movement_sprint_speed</th>\n",
       "      <th>defending_marking_awareness</th>\n",
       "      <th>dribbling</th>\n",
       "      <th>attacking_finishing</th>\n",
       "      <th>attacking_short_passing</th>\n",
       "    </tr>\n",
       "  </thead>\n",
       "  <tbody>\n",
       "    <tr>\n",
       "      <th>0</th>\n",
       "      <td>K. Mbappé</td>\n",
       "      <td>ST, LW</td>\n",
       "      <td>97</td>\n",
       "      <td>26</td>\n",
       "      <td>92.0</td>\n",
       "      <td>94</td>\n",
       "      <td>86</td>\n",
       "    </tr>\n",
       "    <tr>\n",
       "      <th>1</th>\n",
       "      <td>E. Haaland</td>\n",
       "      <td>ST</td>\n",
       "      <td>94</td>\n",
       "      <td>38</td>\n",
       "      <td>80.0</td>\n",
       "      <td>96</td>\n",
       "      <td>77</td>\n",
       "    </tr>\n",
       "    <tr>\n",
       "      <th>2</th>\n",
       "      <td>K. De Bruyne</td>\n",
       "      <td>CM, CAM</td>\n",
       "      <td>72</td>\n",
       "      <td>66</td>\n",
       "      <td>87.0</td>\n",
       "      <td>85</td>\n",
       "      <td>94</td>\n",
       "    </tr>\n",
       "    <tr>\n",
       "      <th>3</th>\n",
       "      <td>L. Messi</td>\n",
       "      <td>CF, CAM</td>\n",
       "      <td>74</td>\n",
       "      <td>20</td>\n",
       "      <td>94.0</td>\n",
       "      <td>89</td>\n",
       "      <td>91</td>\n",
       "    </tr>\n",
       "    <tr>\n",
       "      <th>4</th>\n",
       "      <td>K. Benzema</td>\n",
       "      <td>CF, ST</td>\n",
       "      <td>79</td>\n",
       "      <td>43</td>\n",
       "      <td>87.0</td>\n",
       "      <td>91</td>\n",
       "      <td>89</td>\n",
       "    </tr>\n",
       "    <tr>\n",
       "      <th>...</th>\n",
       "      <td>...</td>\n",
       "      <td>...</td>\n",
       "      <td>...</td>\n",
       "      <td>...</td>\n",
       "      <td>...</td>\n",
       "      <td>...</td>\n",
       "      <td>...</td>\n",
       "    </tr>\n",
       "    <tr>\n",
       "      <th>180016</th>\n",
       "      <td>E. Redman</td>\n",
       "      <td>CB</td>\n",
       "      <td>66</td>\n",
       "      <td>38</td>\n",
       "      <td>30.0</td>\n",
       "      <td>25</td>\n",
       "      <td>36</td>\n",
       "    </tr>\n",
       "    <tr>\n",
       "      <th>180017</th>\n",
       "      <td>A. Collins</td>\n",
       "      <td>ST</td>\n",
       "      <td>68</td>\n",
       "      <td>25</td>\n",
       "      <td>35.0</td>\n",
       "      <td>47</td>\n",
       "      <td>25</td>\n",
       "    </tr>\n",
       "    <tr>\n",
       "      <th>180018</th>\n",
       "      <td>P. Żemło</td>\n",
       "      <td>LM, LB</td>\n",
       "      <td>58</td>\n",
       "      <td>54</td>\n",
       "      <td>31.0</td>\n",
       "      <td>24</td>\n",
       "      <td>40</td>\n",
       "    </tr>\n",
       "    <tr>\n",
       "      <th>180019</th>\n",
       "      <td>T. Davies</td>\n",
       "      <td>CB</td>\n",
       "      <td>73</td>\n",
       "      <td>36</td>\n",
       "      <td>30.0</td>\n",
       "      <td>25</td>\n",
       "      <td>32</td>\n",
       "    </tr>\n",
       "    <tr>\n",
       "      <th>180020</th>\n",
       "      <td>P. Tisdale</td>\n",
       "      <td>CM, CAM</td>\n",
       "      <td>41</td>\n",
       "      <td>27</td>\n",
       "      <td>45.0</td>\n",
       "      <td>36</td>\n",
       "      <td>43</td>\n",
       "    </tr>\n",
       "  </tbody>\n",
       "</table>\n",
       "<p>180021 rows × 7 columns</p>\n",
       "</div>"
      ],
      "text/plain": [
       "          short_name player_positions  movement_sprint_speed  \\\n",
       "0          K. Mbappé           ST, LW                     97   \n",
       "1         E. Haaland               ST                     94   \n",
       "2       K. De Bruyne          CM, CAM                     72   \n",
       "3           L. Messi          CF, CAM                     74   \n",
       "4         K. Benzema           CF, ST                     79   \n",
       "...              ...              ...                    ...   \n",
       "180016     E. Redman               CB                     66   \n",
       "180017    A. Collins               ST                     68   \n",
       "180018      P. Żemło           LM, LB                     58   \n",
       "180019     T. Davies               CB                     73   \n",
       "180020    P. Tisdale          CM, CAM                     41   \n",
       "\n",
       "        defending_marking_awareness  dribbling  attacking_finishing  \\\n",
       "0                                26       92.0                   94   \n",
       "1                                38       80.0                   96   \n",
       "2                                66       87.0                   85   \n",
       "3                                20       94.0                   89   \n",
       "4                                43       87.0                   91   \n",
       "...                             ...        ...                  ...   \n",
       "180016                           38       30.0                   25   \n",
       "180017                           25       35.0                   47   \n",
       "180018                           54       31.0                   24   \n",
       "180019                           36       30.0                   25   \n",
       "180020                           27       45.0                   36   \n",
       "\n",
       "        attacking_short_passing  \n",
       "0                            86  \n",
       "1                            77  \n",
       "2                            94  \n",
       "3                            91  \n",
       "4                            89  \n",
       "...                         ...  \n",
       "180016                       36  \n",
       "180017                       25  \n",
       "180018                       40  \n",
       "180019                       32  \n",
       "180020                       43  \n",
       "\n",
       "[180021 rows x 7 columns]"
      ]
     },
     "execution_count": 58,
     "metadata": {},
     "output_type": "execute_result"
    }
   ],
   "source": [
    "players_attributes"
   ]
  },
  {
   "cell_type": "markdown",
   "id": "47ecfbe5-b652-4c33-9aa2-d079dafcedf4",
   "metadata": {},
   "source": [
    "### 3º Passo - Criação da Função de Busca"
   ]
  },
  {
   "cell_type": "markdown",
   "id": "3a55e839-b3a4-44e7-9327-3335e5b81ff8",
   "metadata": {},
   "source": [
    "Para realizar essa pesquisa usaremos o conceito de Similaridade por Cosseno, onde dado dois vetores é avaliado o valor do cosseno do ângulo compreendido entre eles."
   ]
  },
  {
   "attachments": {
    "701fa74f-328b-48e1-b21d-fd5d85f3cbea.png": {
     "image/png": "[encoded data removed]"
    },
    "d9f051b4-a04f-4cdc-84b2-3adaa1fe970d.png": {
     "image/png": "[encoded data removed]"
    }
   },
   "cell_type": "markdown",
   "id": "938abcb2-6b3f-48cd-9c4d-93d0cb561f42",
   "metadata": {},
   "source": [
    "![image.png](attachment:701fa74f-328b-48e1-b21d-fd5d85f3cbea.png)![image.png](attachment:d9f051b4-a04f-4cdc-84b2-3adaa1fe970d.png)"
   ]
  },
  {
   "cell_type": "markdown",
   "id": "c0cbd4c4-cdb1-4ffa-92ce-69cc51218eaf",
   "metadata": {},
   "source": [
    "Nesse caso, teremos o vetor principal, onde as coordenadas serão os valores de atributos da pessoa que realizar a pesquisa, o qual será comparado com todos as coordenadas (atribiutos) dos jogadores do fifa.   "
   ]
  },
  {
   "cell_type": "markdown",
   "id": "a4b6d911-7bb1-4ce4-982e-f685e003b5ae",
   "metadata": {},
   "source": [
    "Inciar criando um array onde serão armazenados apenas os valores númericos dos jogadores, ou seja estarei criando um arry que irá conter as \"coordenadas\" dos jogadores"
   ]
  },
  {
   "cell_type": "code",
   "execution_count": 60,
   "id": "d27444f9-361c-47f7-8b46-187ff39421df",
   "metadata": {},
   "outputs": [],
   "source": [
    "#Separando os atributos usados para a comparação\n",
    "attributes = ['movement_sprint_speed', 'defending_marking_awareness', 'dribbling', 'attacking_finishing',\"attacking_short_passing\"]\n",
    "compare_attributes = players_attributes[attributes].values\n"
   ]
  },
  {
   "cell_type": "code",
   "execution_count": 61,
   "id": "09b8da30-706b-4dd5-9241-308fc5ba911c",
   "metadata": {},
   "outputs": [
    {
     "data": {
      "text/plain": [
       "array([[97., 26., 92., 94., 86.],\n",
       "       [94., 38., 80., 96., 77.],\n",
       "       [72., 66., 87., 85., 94.],\n",
       "       ...,\n",
       "       [58., 54., 31., 24., 40.],\n",
       "       [73., 36., 30., 25., 32.],\n",
       "       [41., 27., 45., 36., 43.]])"
      ]
     },
     "execution_count": 61,
     "metadata": {},
     "output_type": "execute_result"
    }
   ],
   "source": [
    "compare_attributes"
   ]
  },
  {
   "cell_type": "code",
   "execution_count": 62,
   "id": "0d7ec6c9-84e2-4496-9a2a-09d619f7ae62",
   "metadata": {},
   "outputs": [],
   "source": [
    "def search_player(player,array,dataset):\n",
    "    \n",
    "    #Fazendo o cálculo de similaridade por cosseno\n",
    "    #np.dot calcula produto escalar, e  np.linalg.norm calcula a norma\n",
    "    cos_similar = np.dot(array, player) / (np.linalg.norm(array, axis=1) * np.linalg.norm(player))\n",
    "\n",
    "    #usando a função np.argmax que retorna o indice do maior valor\n",
    "    most_similar = np.argmax(cos_similar)\n",
    "\n",
    "    #Busca no dataset usando o index\n",
    "    player_similar = dataset.loc[most_similar]\n",
    "\n",
    "    return player_similar\n",
    "    "
   ]
  },
  {
   "cell_type": "code",
   "execution_count": 66,
   "id": "dac06d42-2234-431b-a60c-6f82ba32d9e2",
   "metadata": {},
   "outputs": [
    {
     "data": {
      "text/plain": [
       "short_name                     K. Mbappé\n",
       "player_positions                  ST, LW\n",
       "movement_sprint_speed                 97\n",
       "defending_marking_awareness           26\n",
       "dribbling                           92.0\n",
       "attacking_finishing                   94\n",
       "attacking_short_passing               86\n",
       "Name: 0, dtype: object"
      ]
     },
     "execution_count": 66,
     "metadata": {},
     "output_type": "execute_result"
    }
   ],
   "source": [
    "search_player([97, 26, 92, 94, 86],compare_attributes,players_attributes)"
   ]
  },
  {
   "cell_type": "code",
   "execution_count": 77,
   "id": "774f5c87",
   "metadata": {},
   "outputs": [
    {
     "data": {
      "text/plain": [
       "short_name                     E. Haaland\n",
       "player_positions                       ST\n",
       "movement_sprint_speed                  94\n",
       "defending_marking_awareness            38\n",
       "dribbling                            80.0\n",
       "attacking_finishing                    96\n",
       "attacking_short_passing                77\n",
       "Name: 1, dtype: object"
      ]
     },
     "execution_count": 77,
     "metadata": {},
     "output_type": "execute_result"
    }
   ],
   "source": [
    "#Em função de testar coloquei esses com a diferença de 1 dos dados E. Haaland\t\n",
    "search_player([93,37,79,95,76],compare_attributes,players_attributes)\n"
   ]
  },
  {
   "cell_type": "code",
   "execution_count": 76,
   "id": "9aa44321-5264-437c-9130-121f3f63f076",
   "metadata": {},
   "outputs": [
    {
     "data": {
      "text/plain": [
       "short_name                     T. Reijnders\n",
       "player_positions                         CM\n",
       "movement_sprint_speed                    63\n",
       "defending_marking_awareness              42\n",
       "dribbling                              68.0\n",
       "attacking_finishing                      55\n",
       "attacking_short_passing                  70\n",
       "Name: 125300, dtype: object"
      ]
     },
     "execution_count": 76,
     "metadata": {},
     "output_type": "execute_result"
    }
   ],
   "source": [
    "search_player([41,27,45,36,46],compare_attributes,players_attributes)"
   ]
  },
  {
   "cell_type": "code",
   "execution_count": 79,
   "id": "e90a58b1",
   "metadata": {},
   "outputs": [
    {
     "data": {
      "text/plain": [
       "short_name                     P. Škuletić\n",
       "player_positions                        ST\n",
       "movement_sprint_speed                   65\n",
       "defending_marking_awareness             45\n",
       "dribbling                             55.0\n",
       "attacking_finishing                     75\n",
       "attacking_short_passing                 58\n",
       "Name: 80452, dtype: object"
      ]
     },
     "execution_count": 79,
     "metadata": {},
     "output_type": "execute_result"
    }
   ],
   "source": [
    "search_player([70,51,32,93,67],compare_attributes,players_attributes)"
   ]
  },
  {
   "cell_type": "code",
   "execution_count": 80,
   "id": "fef38153",
   "metadata": {},
   "outputs": [
    {
     "data": {
      "text/plain": [
       "short_name                     K. De Bruyne\n",
       "player_positions                    CM, CAM\n",
       "movement_sprint_speed                    72\n",
       "defending_marking_awareness              66\n",
       "dribbling                              87.0\n",
       "attacking_finishing                      85\n",
       "attacking_short_passing                  94\n",
       "Name: 2, dtype: object"
      ]
     },
     "execution_count": 80,
     "metadata": {},
     "output_type": "execute_result"
    }
   ],
   "source": [
    "\n",
    " search_player([72., 66., 87., 85., 94.],compare_attributes,players_attributes)"
   ]
  }
 ],
 "metadata": {
  "kernelspec": {
   "display_name": "Python 3 (ipykernel)",
   "language": "python",
   "name": "python3"
  },
  "language_info": {
   "codemirror_mode": {
    "name": "ipython",
    "version": 3
   },
   "file_extension": ".py",
   "mimetype": "text/x-python",
   "name": "python",
   "nbconvert_exporter": "python",
   "pygments_lexer": "ipython3",
   "version": "3.11.3"
  }
 },
 "nbformat": 4,
 "nbformat_minor": 5
}
