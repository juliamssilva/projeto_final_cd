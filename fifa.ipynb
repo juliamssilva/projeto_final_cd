{
 "cells": [
  {
   "cell_type": "markdown",
   "id": "b694e43a-1383-4261-bd32-5b595e7d16a0",
   "metadata": {},
   "source": [
    "# Exploração Inicial"
   ]
  },
  {
   "cell_type": "code",
   "execution_count": 2,
   "id": "5b841315",
   "metadata": {},
   "outputs": [],
   "source": [
    "import pandas as pd"
   ]
  },
  {
   "cell_type": "code",
   "execution_count": 9,
   "id": "22a25047",
   "metadata": {},
   "outputs": [],
   "source": [
    "male_players = pd.read_csv('archive/male_players.csv',low_memory=False)"
   ]
  },
  {
   "cell_type": "code",
   "execution_count": 5,
   "id": "534ddb9e",
   "metadata": {},
   "outputs": [
    {
     "data": {
      "text/html": [
       "<div>\n",
       "<style scoped>\n",
       "    .dataframe tbody tr th:only-of-type {\n",
       "        vertical-align: middle;\n",
       "    }\n",
       "\n",
       "    .dataframe tbody tr th {\n",
       "        vertical-align: top;\n",
       "    }\n",
       "\n",
       "    .dataframe thead th {\n",
       "        text-align: right;\n",
       "    }\n",
       "</style>\n",
       "<table border=\"1\" class=\"dataframe\">\n",
       "  <thead>\n",
       "    <tr style=\"text-align: right;\">\n",
       "      <th></th>\n",
       "      <th>player_id</th>\n",
       "      <th>player_url</th>\n",
       "      <th>fifa_version</th>\n",
       "      <th>fifa_update</th>\n",
       "      <th>update_as_of</th>\n",
       "      <th>short_name</th>\n",
       "      <th>long_name</th>\n",
       "      <th>player_positions</th>\n",
       "      <th>overall</th>\n",
       "      <th>potential</th>\n",
       "      <th>...</th>\n",
       "      <th>ldm</th>\n",
       "      <th>cdm</th>\n",
       "      <th>rdm</th>\n",
       "      <th>rwb</th>\n",
       "      <th>lb</th>\n",
       "      <th>lcb</th>\n",
       "      <th>cb</th>\n",
       "      <th>rcb</th>\n",
       "      <th>rb</th>\n",
       "      <th>gk</th>\n",
       "    </tr>\n",
       "  </thead>\n",
       "  <tbody>\n",
       "    <tr>\n",
       "      <th>0</th>\n",
       "      <td>231747</td>\n",
       "      <td>/player/231747/kylian-mbappe/240002</td>\n",
       "      <td>24.0</td>\n",
       "      <td>2.0</td>\n",
       "      <td>2023-09-22</td>\n",
       "      <td>K. Mbappé</td>\n",
       "      <td>Kylian Mbappé Lottin</td>\n",
       "      <td>ST, LW</td>\n",
       "      <td>91</td>\n",
       "      <td>94</td>\n",
       "      <td>...</td>\n",
       "      <td>63+3</td>\n",
       "      <td>63+3</td>\n",
       "      <td>63+3</td>\n",
       "      <td>68+3</td>\n",
       "      <td>63+3</td>\n",
       "      <td>54+3</td>\n",
       "      <td>54+3</td>\n",
       "      <td>54+3</td>\n",
       "      <td>63+3</td>\n",
       "      <td>18+3</td>\n",
       "    </tr>\n",
       "    <tr>\n",
       "      <th>1</th>\n",
       "      <td>239085</td>\n",
       "      <td>/player/239085/erling-haaland/240002</td>\n",
       "      <td>24.0</td>\n",
       "      <td>2.0</td>\n",
       "      <td>2023-09-22</td>\n",
       "      <td>E. Haaland</td>\n",
       "      <td>Erling Braut Haaland</td>\n",
       "      <td>ST</td>\n",
       "      <td>91</td>\n",
       "      <td>94</td>\n",
       "      <td>...</td>\n",
       "      <td>63+3</td>\n",
       "      <td>63+3</td>\n",
       "      <td>63+3</td>\n",
       "      <td>62+3</td>\n",
       "      <td>60+3</td>\n",
       "      <td>62+3</td>\n",
       "      <td>62+3</td>\n",
       "      <td>62+3</td>\n",
       "      <td>60+3</td>\n",
       "      <td>19+3</td>\n",
       "    </tr>\n",
       "    <tr>\n",
       "      <th>2</th>\n",
       "      <td>192985</td>\n",
       "      <td>/player/192985/kevin-de-bruyne/240002</td>\n",
       "      <td>24.0</td>\n",
       "      <td>2.0</td>\n",
       "      <td>2023-09-22</td>\n",
       "      <td>K. De Bruyne</td>\n",
       "      <td>Kevin De Bruyne</td>\n",
       "      <td>CM, CAM</td>\n",
       "      <td>91</td>\n",
       "      <td>91</td>\n",
       "      <td>...</td>\n",
       "      <td>80+3</td>\n",
       "      <td>80+3</td>\n",
       "      <td>80+3</td>\n",
       "      <td>79+3</td>\n",
       "      <td>75+3</td>\n",
       "      <td>70+3</td>\n",
       "      <td>70+3</td>\n",
       "      <td>70+3</td>\n",
       "      <td>75+3</td>\n",
       "      <td>21+3</td>\n",
       "    </tr>\n",
       "    <tr>\n",
       "      <th>3</th>\n",
       "      <td>158023</td>\n",
       "      <td>/player/158023/lionel-messi/240002</td>\n",
       "      <td>24.0</td>\n",
       "      <td>2.0</td>\n",
       "      <td>2023-09-22</td>\n",
       "      <td>L. Messi</td>\n",
       "      <td>Lionel Andrés Messi Cuccittini</td>\n",
       "      <td>CF, CAM</td>\n",
       "      <td>90</td>\n",
       "      <td>90</td>\n",
       "      <td>...</td>\n",
       "      <td>63+3</td>\n",
       "      <td>63+3</td>\n",
       "      <td>63+3</td>\n",
       "      <td>64+3</td>\n",
       "      <td>59+3</td>\n",
       "      <td>49+3</td>\n",
       "      <td>49+3</td>\n",
       "      <td>49+3</td>\n",
       "      <td>59+3</td>\n",
       "      <td>19+3</td>\n",
       "    </tr>\n",
       "    <tr>\n",
       "      <th>4</th>\n",
       "      <td>165153</td>\n",
       "      <td>/player/165153/karim-benzema/240002</td>\n",
       "      <td>24.0</td>\n",
       "      <td>2.0</td>\n",
       "      <td>2023-09-22</td>\n",
       "      <td>K. Benzema</td>\n",
       "      <td>Karim Benzema</td>\n",
       "      <td>CF, ST</td>\n",
       "      <td>90</td>\n",
       "      <td>90</td>\n",
       "      <td>...</td>\n",
       "      <td>64+3</td>\n",
       "      <td>64+3</td>\n",
       "      <td>64+3</td>\n",
       "      <td>64+3</td>\n",
       "      <td>60+3</td>\n",
       "      <td>55+3</td>\n",
       "      <td>55+3</td>\n",
       "      <td>55+3</td>\n",
       "      <td>60+3</td>\n",
       "      <td>18+3</td>\n",
       "    </tr>\n",
       "    <tr>\n",
       "      <th>...</th>\n",
       "      <td>...</td>\n",
       "      <td>...</td>\n",
       "      <td>...</td>\n",
       "      <td>...</td>\n",
       "      <td>...</td>\n",
       "      <td>...</td>\n",
       "      <td>...</td>\n",
       "      <td>...</td>\n",
       "      <td>...</td>\n",
       "      <td>...</td>\n",
       "      <td>...</td>\n",
       "      <td>...</td>\n",
       "      <td>...</td>\n",
       "      <td>...</td>\n",
       "      <td>...</td>\n",
       "      <td>...</td>\n",
       "      <td>...</td>\n",
       "      <td>...</td>\n",
       "      <td>...</td>\n",
       "      <td>...</td>\n",
       "      <td>...</td>\n",
       "    </tr>\n",
       "    <tr>\n",
       "      <th>180016</th>\n",
       "      <td>220806</td>\n",
       "      <td>https://sofifa.com/player/220806/ellis-redman/...</td>\n",
       "      <td>15.0</td>\n",
       "      <td>2.0</td>\n",
       "      <td>2014-09-18</td>\n",
       "      <td>E. Redman</td>\n",
       "      <td>Ellis Redman</td>\n",
       "      <td>CB</td>\n",
       "      <td>41</td>\n",
       "      <td>61</td>\n",
       "      <td>...</td>\n",
       "      <td>38</td>\n",
       "      <td>38</td>\n",
       "      <td>38</td>\n",
       "      <td>37</td>\n",
       "      <td>40</td>\n",
       "      <td>41</td>\n",
       "      <td>41</td>\n",
       "      <td>41</td>\n",
       "      <td>40</td>\n",
       "      <td>10</td>\n",
       "    </tr>\n",
       "    <tr>\n",
       "      <th>180017</th>\n",
       "      <td>225509</td>\n",
       "      <td>https://sofifa.com/player/225509/aaron-collins...</td>\n",
       "      <td>15.0</td>\n",
       "      <td>2.0</td>\n",
       "      <td>2014-09-18</td>\n",
       "      <td>A. Collins</td>\n",
       "      <td>Aaron Graham John Collins</td>\n",
       "      <td>ST</td>\n",
       "      <td>41</td>\n",
       "      <td>50</td>\n",
       "      <td>...</td>\n",
       "      <td>30</td>\n",
       "      <td>30</td>\n",
       "      <td>30</td>\n",
       "      <td>31</td>\n",
       "      <td>32</td>\n",
       "      <td>31</td>\n",
       "      <td>31</td>\n",
       "      <td>31</td>\n",
       "      <td>32</td>\n",
       "      <td>14</td>\n",
       "    </tr>\n",
       "    <tr>\n",
       "      <th>180018</th>\n",
       "      <td>217591</td>\n",
       "      <td>https://sofifa.com/player/217591/piotr-zemlo/1...</td>\n",
       "      <td>15.0</td>\n",
       "      <td>2.0</td>\n",
       "      <td>2014-09-18</td>\n",
       "      <td>P. Żemło</td>\n",
       "      <td>Piotr Żemło</td>\n",
       "      <td>LM, LB</td>\n",
       "      <td>40</td>\n",
       "      <td>50</td>\n",
       "      <td>...</td>\n",
       "      <td>46</td>\n",
       "      <td>46</td>\n",
       "      <td>46</td>\n",
       "      <td>48</td>\n",
       "      <td>51-1</td>\n",
       "      <td>53-3</td>\n",
       "      <td>53-3</td>\n",
       "      <td>53-3</td>\n",
       "      <td>51-1</td>\n",
       "      <td>12</td>\n",
       "    </tr>\n",
       "    <tr>\n",
       "      <th>180019</th>\n",
       "      <td>222947</td>\n",
       "      <td>https://sofifa.com/player/222947/tom-davies/15...</td>\n",
       "      <td>15.0</td>\n",
       "      <td>2.0</td>\n",
       "      <td>2014-09-18</td>\n",
       "      <td>T. Davies</td>\n",
       "      <td>Thomas Christopher Davies</td>\n",
       "      <td>CB</td>\n",
       "      <td>40</td>\n",
       "      <td>49</td>\n",
       "      <td>...</td>\n",
       "      <td>36</td>\n",
       "      <td>36</td>\n",
       "      <td>36</td>\n",
       "      <td>37</td>\n",
       "      <td>39</td>\n",
       "      <td>40</td>\n",
       "      <td>40</td>\n",
       "      <td>40</td>\n",
       "      <td>39</td>\n",
       "      <td>13</td>\n",
       "    </tr>\n",
       "    <tr>\n",
       "      <th>180020</th>\n",
       "      <td>201197</td>\n",
       "      <td>https://sofifa.com/player/201197/paul-tisdale/...</td>\n",
       "      <td>15.0</td>\n",
       "      <td>2.0</td>\n",
       "      <td>2014-09-18</td>\n",
       "      <td>P. Tisdale</td>\n",
       "      <td>Paul Tisdale</td>\n",
       "      <td>CM, CAM</td>\n",
       "      <td>40</td>\n",
       "      <td>40</td>\n",
       "      <td>...</td>\n",
       "      <td>37</td>\n",
       "      <td>37</td>\n",
       "      <td>37</td>\n",
       "      <td>36</td>\n",
       "      <td>34</td>\n",
       "      <td>33</td>\n",
       "      <td>33</td>\n",
       "      <td>33</td>\n",
       "      <td>34</td>\n",
       "      <td>10</td>\n",
       "    </tr>\n",
       "  </tbody>\n",
       "</table>\n",
       "<p>180021 rows × 109 columns</p>\n",
       "</div>"
      ],
      "text/plain": [
       "        player_id                                         player_url  \\\n",
       "0          231747                /player/231747/kylian-mbappe/240002   \n",
       "1          239085               /player/239085/erling-haaland/240002   \n",
       "2          192985              /player/192985/kevin-de-bruyne/240002   \n",
       "3          158023                 /player/158023/lionel-messi/240002   \n",
       "4          165153                /player/165153/karim-benzema/240002   \n",
       "...           ...                                                ...   \n",
       "180016     220806  https://sofifa.com/player/220806/ellis-redman/...   \n",
       "180017     225509  https://sofifa.com/player/225509/aaron-collins...   \n",
       "180018     217591  https://sofifa.com/player/217591/piotr-zemlo/1...   \n",
       "180019     222947  https://sofifa.com/player/222947/tom-davies/15...   \n",
       "180020     201197  https://sofifa.com/player/201197/paul-tisdale/...   \n",
       "\n",
       "        fifa_version  fifa_update update_as_of    short_name  \\\n",
       "0               24.0          2.0   2023-09-22     K. Mbappé   \n",
       "1               24.0          2.0   2023-09-22    E. Haaland   \n",
       "2               24.0          2.0   2023-09-22  K. De Bruyne   \n",
       "3               24.0          2.0   2023-09-22      L. Messi   \n",
       "4               24.0          2.0   2023-09-22    K. Benzema   \n",
       "...              ...          ...          ...           ...   \n",
       "180016          15.0          2.0   2014-09-18     E. Redman   \n",
       "180017          15.0          2.0   2014-09-18    A. Collins   \n",
       "180018          15.0          2.0   2014-09-18      P. Żemło   \n",
       "180019          15.0          2.0   2014-09-18     T. Davies   \n",
       "180020          15.0          2.0   2014-09-18    P. Tisdale   \n",
       "\n",
       "                             long_name player_positions  overall  potential  \\\n",
       "0                 Kylian Mbappé Lottin           ST, LW       91         94   \n",
       "1                 Erling Braut Haaland               ST       91         94   \n",
       "2                      Kevin De Bruyne          CM, CAM       91         91   \n",
       "3       Lionel Andrés Messi Cuccittini          CF, CAM       90         90   \n",
       "4                        Karim Benzema           CF, ST       90         90   \n",
       "...                                ...              ...      ...        ...   \n",
       "180016                    Ellis Redman               CB       41         61   \n",
       "180017       Aaron Graham John Collins               ST       41         50   \n",
       "180018                     Piotr Żemło           LM, LB       40         50   \n",
       "180019       Thomas Christopher Davies               CB       40         49   \n",
       "180020                    Paul Tisdale          CM, CAM       40         40   \n",
       "\n",
       "        ...   ldm   cdm   rdm   rwb    lb   lcb    cb   rcb    rb    gk  \n",
       "0       ...  63+3  63+3  63+3  68+3  63+3  54+3  54+3  54+3  63+3  18+3  \n",
       "1       ...  63+3  63+3  63+3  62+3  60+3  62+3  62+3  62+3  60+3  19+3  \n",
       "2       ...  80+3  80+3  80+3  79+3  75+3  70+3  70+3  70+3  75+3  21+3  \n",
       "3       ...  63+3  63+3  63+3  64+3  59+3  49+3  49+3  49+3  59+3  19+3  \n",
       "4       ...  64+3  64+3  64+3  64+3  60+3  55+3  55+3  55+3  60+3  18+3  \n",
       "...     ...   ...   ...   ...   ...   ...   ...   ...   ...   ...   ...  \n",
       "180016  ...    38    38    38    37    40    41    41    41    40    10  \n",
       "180017  ...    30    30    30    31    32    31    31    31    32    14  \n",
       "180018  ...    46    46    46    48  51-1  53-3  53-3  53-3  51-1    12  \n",
       "180019  ...    36    36    36    37    39    40    40    40    39    13  \n",
       "180020  ...    37    37    37    36    34    33    33    33    34    10  \n",
       "\n",
       "[180021 rows x 109 columns]"
      ]
     },
     "execution_count": 5,
     "metadata": {},
     "output_type": "execute_result"
    }
   ],
   "source": [
    "male_players"
   ]
  },
  {
   "cell_type": "markdown",
   "id": "58d0d55b-21d5-4cde-967b-65669a31ea8e",
   "metadata": {},
   "source": [
    "### Medidas de centralidade"
   ]
  },
  {
   "cell_type": "markdown",
   "id": "5f1678da",
   "metadata": {},
   "source": [
    "MEDIANA E MODA"
   ]
  },
  {
   "cell_type": "code",
   "execution_count": null,
   "id": "d9deb2a9",
   "metadata": {},
   "outputs": [],
   "source": [
    "import numpy as np\n",
    "from scipy import stats\n",
    "\n",
    "data = pd.read_csv('archive/male_players.csv',low_memory=False)"
   ]
  },
  {
   "cell_type": "markdown",
   "id": "2967fda0",
   "metadata": {},
   "source": [
    "GOLEIROS"
   ]
  },
  {
   "cell_type": "code",
   "execution_count": null,
   "id": "0b98b03c",
   "metadata": {},
   "outputs": [],
   "source": [
    "i = 15\n",
    "\n",
    "while i < 25:\n",
    "    gk_org = data[data[\"fifa_version\"] <= i][data[\"player_positions\"] == 'GK']\n",
    "    fifa = gk_org[[\"fifa_version\", \"player_positions\", \"short_name\", \"overall\", \"goalkeeping_reflexes\"]]\n",
    "    goleiro_mediana = np.median(fifa[\"goalkeeping_reflexes\"])\n",
    "    goleiro_moda = stats.mode(fifa[\"goalkeeping_reflexes\"])\n",
    "    print(\"Mediana FIFA\",i, \":\", goleiro_mediana)\n",
    "    print(\"Moda FIFA\",i, \":\", goleiro_moda)\n",
    "    i += 1"
   ]
  },
  {
   "cell_type": "markdown",
   "id": "27f1af6f",
   "metadata": {},
   "source": [
    "LATERAIS ESQUERDOS"
   ]
  },
  {
   "cell_type": "code",
   "execution_count": null,
   "id": "625ffbf9",
   "metadata": {},
   "outputs": [],
   "source": [
    "i = 15\n",
    "while i < 25:\n",
    "    lateraise_org = data[data[\"fifa_version\"] <= i][data[\"player_positions\"] == 'LB']\n",
    "    fifa = lateraise_org[[\"fifa_version\", \"player_positions\", \"short_name\", \"overall\", \"pace\"]]\n",
    "    lateraise_mediana = np.median(fifa[\"pace\"])\n",
    "    lateraise_moda = stats.mode(fifa[\"pace\"])\n",
    "    print(\"Mediana FIFA\",i, \":\", lateraise_mediana)\n",
    "    print(\"Moda FIFA\",i, \":\", lateraise_moda)\n",
    "    i += 1"
   ]
  },
  {
   "cell_type": "markdown",
   "id": "7e39f6fa",
   "metadata": {},
   "source": [
    "ALAS PELA ESQUERDA"
   ]
  },
  {
   "cell_type": "code",
   "execution_count": null,
   "id": "105082f5",
   "metadata": {},
   "outputs": [],
   "source": [
    "i = 15\n",
    "while i < 25:\n",
    "    alase_org = data[data[\"fifa_version\"] <= i][data[\"player_positions\"] == 'LWB']\n",
    "    fifa = alase_org[[\"fifa_version\", \"player_positions\", \"short_name\", \"overall\", \"pace\"]]\n",
    "    alase_mediana = np.median(fifa[\"pace\"])\n",
    "    alase_moda = stats.mode(fifa[\"pace\"])\n",
    "    print(\"Mediana FIFA\",i, \":\", alase_mediana)\n",
    "    print(\"Moda FIFA\",i, \":\", alase_moda)\n",
    "    i += 1"
   ]
  },
  {
   "cell_type": "markdown",
   "id": "50fc7f58",
   "metadata": {},
   "source": [
    "LATERAIS DIREITOS"
   ]
  },
  {
   "cell_type": "code",
   "execution_count": null,
   "id": "854bead0",
   "metadata": {},
   "outputs": [],
   "source": [
    "i = 15\n",
    "while i < 25:\n",
    "    ld_org = data[data[\"fifa_version\"] <= i][data[\"player_positions\"] == 'RB']\n",
    "    fifa = ld_org[[\"fifa_version\", \"player_positions\", \"short_name\", \"overall\", \"pace\"]]\n",
    "    ld_mediana = np.median(fifa[\"pace\"])\n",
    "    ld_moda = stats.mode(fifa[\"pace\"])\n",
    "    print(\"Mediana FIFA\",i, \":\", ld_mediana)\n",
    "    print(\"Moda FIFA\",i, \":\", ld_moda)\n",
    "    i += 1"
   ]
  },
  {
   "cell_type": "markdown",
   "id": "0373e324",
   "metadata": {},
   "source": [
    "ALAS PELA DIREITA"
   ]
  },
  {
   "cell_type": "code",
   "execution_count": null,
   "id": "cc3ac29d",
   "metadata": {},
   "outputs": [],
   "source": [
    "i = 15\n",
    "while i < 25:\n",
    "    add_org = data[data[\"fifa_version\"] <= i][data[\"player_positions\"] == 'RWB']\n",
    "    fifa = add_org[[\"fifa_version\", \"player_positions\", \"short_name\", \"overall\", \"pace\"]]\n",
    "    add_mediana = np.median(fifa[\"pace\"])\n",
    "    add_moda = stats.mode(fifa[\"pace\"])\n",
    "    print(\"Mediana FIFA\",i, \":\", add_mediana)\n",
    "    print(\"Moda FIFA\",i, \":\", add_moda)\n",
    "    i += 1"
   ]
  },
  {
   "cell_type": "markdown",
   "id": "4800ef7b",
   "metadata": {},
   "source": [
    "ZAGUEIROS"
   ]
  },
  {
   "cell_type": "code",
   "execution_count": null,
   "id": "efd41c6f",
   "metadata": {},
   "outputs": [],
   "source": [
    "i = 15\n",
    "while i < 25:\n",
    "    zag_org = data[data[\"fifa_version\"] <= i][data[\"player_positions\"] == 'CB']\n",
    "    fifa = zag_org[[\"fifa_version\", \"player_positions\", \"short_name\", \"overall\", \"defending_marking_awareness\"]]\n",
    "    zag_mediana = np.median(fifa[\"defending_marking_awareness\"])\n",
    "    zag_moda = stats.mode(fifa[\"defending_marking_awareness\"])\n",
    "    print(\"Mediana FIFA\",i, \":\", zag_mediana)\n",
    "    print(\"Moda FIFA\",i, \":\", zag_moda)\n",
    "    i += 1"
   ]
  },
  {
   "cell_type": "markdown",
   "id": "fb5bd713",
   "metadata": {},
   "source": [
    "VOLANTES"
   ]
  },
  {
   "cell_type": "code",
   "execution_count": null,
   "id": "2d69d38e",
   "metadata": {},
   "outputs": [],
   "source": [
    "i = 15\n",
    "while i < 25:\n",
    "    vol_org = data[data[\"fifa_version\"] <= i][data[\"player_positions\"] == 'CDM']\n",
    "    fifa = vol_org[[\"fifa_version\", \"player_positions\", \"short_name\", \"overall\", \"attacking_short_passing\"]]\n",
    "    vol_mediana = np.median(fifa[\"attacking_short_passing\"])\n",
    "    vol_moda = stats.mode(fifa[\"attacking_short_passing\"])\n",
    "    print(\"Mediana FIFA\",i, \":\", vol_mediana)\n",
    "    print(\"Moda FIFA\",i, \":\", vol_moda)\n",
    "    i += 1"
   ]
  },
  {
   "cell_type": "markdown",
   "id": "f9c70647",
   "metadata": {},
   "source": [
    "MEIAS CENTRAIS"
   ]
  },
  {
   "cell_type": "code",
   "execution_count": null,
   "id": "ebc44601",
   "metadata": {},
   "outputs": [],
   "source": [
    "i = 15\n",
    "while i < 25:\n",
    "    mc_org = data[data[\"fifa_version\"] <= i][data[\"player_positions\"] == 'CM']\n",
    "    fifa = mc_org[[\"fifa_version\", \"player_positions\", \"short_name\", \"overall\", \"attacking_short_passing\"]]\n",
    "    mc_mediana = np.median(fifa[\"attacking_short_passing\"])\n",
    "    mc_moda = stats.mode(fifa[\"attacking_short_passing\"])\n",
    "    print(\"Mediana FIFA\",i, \":\", mc_mediana)\n",
    "    print(\"Moda FIFA\",i, \":\", mc_moda)\n",
    "    i += 1"
   ]
  },
  {
   "cell_type": "markdown",
   "id": "2767e36d",
   "metadata": {},
   "source": [
    "MEIAS ATACANTES"
   ]
  },
  {
   "cell_type": "code",
   "execution_count": null,
   "id": "7cec1aa1",
   "metadata": {},
   "outputs": [],
   "source": [
    "i = 15\n",
    "while i < 25:\n",
    "    mei_org = data[data[\"fifa_version\"] <= i][data[\"player_positions\"] == 'CAM']\n",
    "    fifa = mei_org[[\"fifa_version\", \"player_positions\", \"short_name\", \"overall\", \"attacking_short_passing\"]]\n",
    "    mei_mediana = np.median(fifa[\"attacking_short_passing\"])\n",
    "    mei_moda = stats.mode(fifa[\"attacking_short_passing\"])\n",
    "    print(\"Mediana FIFA\",i, \":\", mei_mediana)\n",
    "    print(\"Moda FIFA\",i, \":\", mei_moda)\n",
    "    i += 1"
   ]
  },
  {
   "cell_type": "markdown",
   "id": "6825f245",
   "metadata": {},
   "source": [
    "MEIAS ESQUERDAS"
   ]
  },
  {
   "cell_type": "code",
   "execution_count": null,
   "id": "16abf508",
   "metadata": {},
   "outputs": [],
   "source": [
    "i = 15\n",
    "while i < 25:\n",
    "    me_org = data[data[\"fifa_version\"] <= i][data[\"player_positions\"] == 'LM']\n",
    "    fifa = me_org[[\"fifa_version\", \"player_positions\", \"short_name\", \"overall\", \"dribbling\"]]\n",
    "    me_mediana = np.median(fifa[\"dribbling\"])\n",
    "    me_moda = stats.mode(fifa[\"dribbling\"])\n",
    "    print(\"Mediana FIFA\",i, \":\", me_mediana)\n",
    "    print(\"Moda FIFA\",i, \":\", me_moda)\n",
    "    i += 1"
   ]
  },
  {
   "cell_type": "markdown",
   "id": "e41955b6",
   "metadata": {},
   "source": [
    "PONTAS ESQUERDAS"
   ]
  },
  {
   "cell_type": "code",
   "execution_count": null,
   "id": "ecfc2a9a",
   "metadata": {},
   "outputs": [],
   "source": [
    "i = 15\n",
    "while i < 25:\n",
    "    pe_org = data[data[\"fifa_version\"] <= i][data[\"player_positions\"] == 'LW']\n",
    "    fifa = pe_org[[\"fifa_version\", \"player_positions\", \"short_name\", \"overall\", \"dribbling\"]]\n",
    "    pe_mediana = np.median(fifa[\"dribbling\"])\n",
    "    pe_moda = stats.mode(fifa[\"dribbling\"])\n",
    "    print(\"Mediana FIFA\",i, \":\", pe_mediana)\n",
    "    print(\"Moda FIFA\",i, \":\", pe_moda)\n",
    "    i += 1"
   ]
  },
  {
   "cell_type": "markdown",
   "id": "a5ecad94",
   "metadata": {},
   "source": [
    "PONTAS DIREITAS"
   ]
  },
  {
   "cell_type": "code",
   "execution_count": null,
   "id": "4269bf88",
   "metadata": {},
   "outputs": [],
   "source": [
    "i = 15\n",
    "while i < 25:\n",
    "    pod_org = data[data[\"fifa_version\"] <= i][data[\"player_positions\"] == 'RW']\n",
    "    fifa = pod_org[[\"fifa_version\", \"player_positions\", \"short_name\", \"overall\", \"dribbling\"]]\n",
    "    pod_mediana = np.median(fifa[\"dribbling\"])\n",
    "    pod_moda = stats.mode(fifa[\"dribbling\"])\n",
    "    print(\"Mediana FIFA\",i, \":\", pod_mediana)\n",
    "    print(\"Moda FIFA\",i, \":\", pod_moda)\n",
    "    i += 1"
   ]
  },
  {
   "cell_type": "markdown",
   "id": "da378ba5",
   "metadata": {},
   "source": [
    "MEIAS DIREITAS"
   ]
  },
  {
   "cell_type": "code",
   "execution_count": null,
   "id": "a21b9c80",
   "metadata": {},
   "outputs": [],
   "source": [
    "i = 15\n",
    "while i < 25:\n",
    "    md_org = data[data[\"fifa_version\"] <= i][data[\"player_positions\"] == 'RM']\n",
    "    fifa = md_org[[\"fifa_version\", \"player_positions\", \"short_name\", \"overall\", \"dribbling\"]]\n",
    "    md_mediana = np.median(fifa[\"dribbling\"])\n",
    "    md_moda = stats.mode(fifa[\"dribbling\"])\n",
    "    print(\"Mediana FIFA\",i, \":\", md_mediana)\n",
    "    print(\"Moda FIFA\",i, \":\", md_moda)\n",
    "    i += 1"
   ]
  },
  {
   "cell_type": "markdown",
   "id": "5faf85d5",
   "metadata": {},
   "source": [
    "SEGUNDOS ATACANTES"
   ]
  },
  {
   "cell_type": "code",
   "execution_count": null,
   "id": "8411dc38",
   "metadata": {},
   "outputs": [],
   "source": [
    "i = 15\n",
    "while i < 25:\n",
    "    sa_org = data[data[\"fifa_version\"] <= i][data[\"player_positions\"] == 'CF']\n",
    "    fifa = sa_org[[\"fifa_version\", \"player_positions\", \"short_name\", \"overall\", \"attacking_finishing\"]]\n",
    "    sa_mediana = np.median(fifa[\"attacking_finishing\"])\n",
    "    sa_moda = stats.mode(fifa[\"attacking_finishing\"])\n",
    "    print(\"Mediana FIFA\",i, \":\", sa_mediana)\n",
    "    print(\"Moda FIFA\",i, \":\", sa_moda)\n",
    "    i += 1"
   ]
  },
  {
   "cell_type": "markdown",
   "id": "0913ab79",
   "metadata": {},
   "source": [
    "CENTROAVANTES"
   ]
  },
  {
   "cell_type": "code",
   "execution_count": null,
   "id": "12a94d8b",
   "metadata": {},
   "outputs": [],
   "source": [
    "i = 15\n",
    "while i < 25:\n",
    "    ata_org = data[data[\"fifa_version\"] <= i][data[\"player_positions\"] == 'ST']\n",
    "    fifa = ata_org[[\"fifa_version\", \"player_positions\", \"short_name\", \"overall\", \"attacking_finishing\"]]\n",
    "    ata_mediana = np.median(fifa[\"attacking_finishing\"])\n",
    "    ata_moda = stats.mode(fifa[\"attacking_finishing\"])\n",
    "    print(\"Mediana FIFA\",i, \":\", ata_mediana)\n",
    "    print(\"Moda FIFA\",i, \":\", ata_moda)\n",
    "    i += 1"
   ]
  },
  {
   "cell_type": "markdown",
   "id": "5cbfdd47-e5a3-4e00-9d77-ea9fbef4b430",
   "metadata": {},
   "source": [
    "### Medidas de dispersão "
   ]
  },
  {
   "cell_type": "markdown",
   "id": "8e958f10",
   "metadata": {},
   "source": [
    "### Boxplot"
   ]
  }
 ],
 "metadata": {
  "kernelspec": {
   "display_name": "Python 3 (ipykernel)",
   "language": "python",
   "name": "python3"
  },
  "language_info": {
   "codemirror_mode": {
    "name": "ipython",
    "version": 3
   },
   "file_extension": ".py",
   "mimetype": "text/x-python",
   "name": "python",
   "nbconvert_exporter": "python",
   "pygments_lexer": "ipython3",
   "version": "3.11.3"
  }
 },
 "nbformat": 4,
 "nbformat_minor": 5
}
