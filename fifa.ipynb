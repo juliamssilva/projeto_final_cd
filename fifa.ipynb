{
 "cells": [
  {
   "cell_type": "markdown",
   "id": "b694e43a-1383-4261-bd32-5b595e7d16a0",
   "metadata": {},
   "source": [
    "# Exploração Inicial"
   ]
  },
  {
   "cell_type": "code",
   "execution_count": 14,
   "id": "5b841315",
   "metadata": {},
   "outputs": [],
   "source": [
    "import pandas as pd\n",
    "import numpy as np\n",
    "from scipy import stats"
   ]
  },
  {
   "cell_type": "code",
   "execution_count": 15,
   "id": "1a457ad7-e332-48cd-8cea-6d47a4ba37a2",
   "metadata": {},
   "outputs": [],
   "source": [
    "data = pd.read_csv('archive/male_players.csv',low_memory=False)"
   ]
  },
  {
   "cell_type": "markdown",
   "id": "58d0d55b-21d5-4cde-967b-65669a31ea8e",
   "metadata": {},
   "source": [
    "### Medidas de centralidade"
   ]
  },
  {
   "cell_type": "markdown",
   "id": "1748441d-ba9f-4bf4-9460-b97c0f77c7cb",
   "metadata": {},
   "source": [
    "#### Média"
   ]
  },
  {
   "cell_type": "markdown",
   "id": "8ca66d08-5095-4c72-b49b-7883a4dbe905",
   "metadata": {},
   "source": [
    "Função para fazer o cálculo de médias"
   ]
  },
  {
   "cell_type": "code",
   "execution_count": 16,
   "id": "52beaf23-8080-4f7f-afb3-62e1f53137a8",
   "metadata": {},
   "outputs": [],
   "source": [
    "def MeanPositions(version, position: str, hability:str):\n",
    "    players = data.loc[(data[\"fifa_version\"]<= version) & (data[\"player_positions\"] == position)]\n",
    "    players_data = players[[\"fifa_version\", \"player_positions\", \"short_name\", hability]]\n",
    "    players_media = np.mean(players_data[hability])\n",
    "    return players_media\n",
    "    "
   ]
  },
  {
   "cell_type": "markdown",
   "id": "76b77a78-bec7-47a0-a837-6f06bf2a4690",
   "metadata": {},
   "source": [
    "LATERAIS DIREITOS"
   ]
  },
  {
   "cell_type": "code",
   "execution_count": 17,
   "id": "7b27c45c-2b12-4622-8c8d-142ea3827abd",
   "metadata": {},
   "outputs": [
    {
     "name": "stdout",
     "output_type": "stream",
     "text": [
      "Média 15: 71.25\n",
      "Média 16: 71.62\n",
      "Média 17: 71.91\n",
      "Média 18: 72.20\n",
      "Média 19: 72.31\n",
      "Média 20: 72.37\n",
      "Média 21: 72.32\n",
      "Média 22: 72.33\n",
      "Média 23: 72.37\n",
      "Média 24: 72.37\n"
     ]
    }
   ],
   "source": [
    "for i in range (15,25):\n",
    "    ld = MeanPositions(i,\"RB\",\"movement_sprint_speed\")\n",
    "    print(f\"Média {i}: {ld:.2f}\")"
   ]
  },
  {
   "cell_type": "markdown",
   "id": "4eb877d1-eef3-4633-9f3e-e1f552a2586a",
   "metadata": {},
   "source": [
    "ALAS PELA DIREITA"
   ]
  },
  {
   "cell_type": "code",
   "execution_count": 18,
   "id": "fe49ea86-02d4-492e-be13-8dac834b814a",
   "metadata": {},
   "outputs": [
    {
     "name": "stdout",
     "output_type": "stream",
     "text": [
      "Média 15: 56.00\n",
      "Média 16: 73.00\n",
      "Média 17: 76.38\n",
      "Média 18: 73.94\n",
      "Média 19: 73.04\n",
      "Média 20: 73.39\n",
      "Média 21: 73.66\n",
      "Média 22: 74.10\n",
      "Média 23: 73.90\n",
      "Média 24: 73.26\n"
     ]
    }
   ],
   "source": [
    "for i in range (15,25):\n",
    "    ald = MeanPositions(i,\"RWB\",\"movement_sprint_speed\")\n",
    "    print(f\"Média {i}: {ald:.2f}\")"
   ]
  },
  {
   "cell_type": "markdown",
   "id": "8f89f77b-4576-440f-b16a-c0e3c0b9c234",
   "metadata": {},
   "source": [
    "LATERAIS ESQUERDOS"
   ]
  },
  {
   "cell_type": "code",
   "execution_count": 19,
   "id": "0cfd7e92-6b49-47d4-8e6c-0b7ec6eac39f",
   "metadata": {},
   "outputs": [
    {
     "name": "stdout",
     "output_type": "stream",
     "text": [
      "Média 15: 71.74\n",
      "Média 16: 71.96\n",
      "Média 17: 71.97\n",
      "Média 18: 71.87\n",
      "Média 19: 71.84\n",
      "Média 20: 71.88\n",
      "Média 21: 71.82\n",
      "Média 22: 71.86\n",
      "Média 23: 71.93\n",
      "Média 24: 71.94\n"
     ]
    }
   ],
   "source": [
    "for i in range (15,25):\n",
    "    le = MeanPositions(i,\"LB\",\"movement_sprint_speed\")\n",
    "    print(f\"Média {i}: {le:.2f}\")"
   ]
  },
  {
   "cell_type": "markdown",
   "id": "a19c6241-ddb9-4be5-b1cf-937628102edc",
   "metadata": {},
   "source": [
    "ALAS PELA ESQUERDA"
   ]
  },
  {
   "cell_type": "code",
   "execution_count": 20,
   "id": "01b9556b-f95e-4d42-b220-800ff88e2d9e",
   "metadata": {},
   "outputs": [
    {
     "name": "stdout",
     "output_type": "stream",
     "text": [
      "Média 15: 46.50\n",
      "Média 16: 60.40\n",
      "Média 17: 63.33\n",
      "Média 18: 68.39\n",
      "Média 19: 71.19\n",
      "Média 20: 72.73\n",
      "Média 21: 72.44\n",
      "Média 22: 71.86\n",
      "Média 23: 72.66\n",
      "Média 24: 72.63\n"
     ]
    }
   ],
   "source": [
    "for i in range (15,25):\n",
    "    ale = MeanPositions(i,\"LWB\",\"movement_sprint_speed\")\n",
    "    print(f\"Média {i}: {ale:.2f}\")"
   ]
  },
  {
   "cell_type": "markdown",
   "id": "0063759a-ccae-4084-ac67-5e6507c30602",
   "metadata": {},
   "source": [
    "ZAGUEIROS"
   ]
  },
  {
   "cell_type": "code",
   "execution_count": 21,
   "id": "4fde8070-e749-4d5c-bbc6-5d7f6aa032e3",
   "metadata": {},
   "outputs": [
    {
     "name": "stdout",
     "output_type": "stream",
     "text": [
      "Média 15: 64.22\n",
      "Média 16: 65.82\n",
      "Média 17: 65.95\n",
      "Média 18: 65.95\n",
      "Média 19: 65.82\n",
      "Média 20: 65.70\n",
      "Média 21: 65.57\n",
      "Média 22: 65.54\n",
      "Média 23: 65.57\n",
      "Média 24: 65.61\n"
     ]
    }
   ],
   "source": [
    "for i in range (15,25):\n",
    "    cb = MeanPositions(i,\"CB\",\"defending_marking_awareness\")\n",
    "    print(f\"Média {i}: {cb:.2f}\")"
   ]
  },
  {
   "cell_type": "markdown",
   "id": "eb1ae64a-4a67-477e-8c19-725b0ae7bffd",
   "metadata": {},
   "source": [
    "GOLEIROS"
   ]
  },
  {
   "cell_type": "code",
   "execution_count": 22,
   "id": "73c78ddc-84db-48b4-a27b-446bdee650d5",
   "metadata": {},
   "outputs": [
    {
     "name": "stdout",
     "output_type": "stream",
     "text": [
      "Média 15: 65.86\n",
      "Média 16: 66.61\n",
      "Média 17: 66.21\n",
      "Média 18: 66.22\n",
      "Média 19: 66.18\n",
      "Média 20: 66.21\n",
      "Média 21: 66.19\n",
      "Média 22: 66.15\n",
      "Média 23: 66.13\n",
      "Média 24: 66.09\n"
     ]
    }
   ],
   "source": [
    "for i in range (15,25):\n",
    "    gk = MeanPositions(i,\"GK\",\"goalkeeping_reflexes\")\n",
    "    print(f\"Média {i}: {gk:.2f}\")"
   ]
  },
  {
   "cell_type": "markdown",
   "id": "83186853-ecf5-465f-9ee0-e8122fa83ae6",
   "metadata": {},
   "source": [
    "VOLANTES"
   ]
  },
  {
   "cell_type": "code",
   "execution_count": 23,
   "id": "98705687-e91f-4adf-b2e0-5c9da157614e",
   "metadata": {},
   "outputs": [
    {
     "name": "stdout",
     "output_type": "stream",
     "text": [
      "Média 15: 65.77\n",
      "Média 16: 66.36\n",
      "Média 17: 66.46\n",
      "Média 18: 66.56\n",
      "Média 19: 66.54\n",
      "Média 20: 66.38\n",
      "Média 21: 66.26\n",
      "Média 22: 66.12\n",
      "Média 23: 66.00\n",
      "Média 24: 65.92\n"
     ]
    }
   ],
   "source": [
    "for i in range (15,25):\n",
    "    cdm = MeanPositions(i,\"CDM\",\"attacking_short_passing\")\n",
    "    print(f\"Média {i}: {cdm:.2f}\")"
   ]
  },
  {
   "cell_type": "markdown",
   "id": "14eb2ad0-49ea-4b72-99df-d3682f0d637b",
   "metadata": {},
   "source": [
    "MEIAS CENTRAIS"
   ]
  },
  {
   "cell_type": "code",
   "execution_count": 24,
   "id": "49a26fef-c956-40f0-81d4-3a114c6ba59e",
   "metadata": {},
   "outputs": [
    {
     "name": "stdout",
     "output_type": "stream",
     "text": [
      "Média 15: 65.52\n",
      "Média 16: 65.86\n",
      "Média 17: 66.03\n",
      "Média 18: 66.15\n",
      "Média 19: 66.15\n",
      "Média 20: 66.18\n",
      "Média 21: 66.10\n",
      "Média 22: 66.13\n",
      "Média 23: 66.18\n",
      "Média 24: 66.21\n"
     ]
    }
   ],
   "source": [
    "for i in range (15,25):\n",
    "    cm = MeanPositions(i,\"CM\",\"attacking_short_passing\")\n",
    "    print(f\"Média {i}: {cm:.2f}\")"
   ]
  },
  {
   "cell_type": "markdown",
   "id": "4b2d7e4d-882a-4fe2-a7cd-2511dcce221b",
   "metadata": {},
   "source": [
    "MEIAS ATACANTES"
   ]
  },
  {
   "cell_type": "code",
   "execution_count": 25,
   "id": "bf5a3fe5-b1c7-4d23-8bd5-90a9bd6fd474",
   "metadata": {},
   "outputs": [
    {
     "name": "stdout",
     "output_type": "stream",
     "text": [
      "Média 15: 65.48\n",
      "Média 16: 65.74\n",
      "Média 17: 65.93\n",
      "Média 18: 65.90\n",
      "Média 19: 65.81\n",
      "Média 20: 65.55\n",
      "Média 21: 65.36\n",
      "Média 22: 65.31\n",
      "Média 23: 65.23\n",
      "Média 24: 65.10\n"
     ]
    }
   ],
   "source": [
    "for i in range (15,25):\n",
    "    cam = MeanPositions(i,\"CAM\",\"attacking_short_passing\")\n",
    "    print(f\"Média {i}: {cam:.2f}\")"
   ]
  },
  {
   "cell_type": "markdown",
   "id": "264bcad3-2263-468d-ba39-193663072112",
   "metadata": {},
   "source": [
    "MEIAS ESQUERDAS"
   ]
  },
  {
   "cell_type": "code",
   "execution_count": 26,
   "id": "6cc06d9e-b74a-431c-9b63-a8561b085b36",
   "metadata": {},
   "outputs": [
    {
     "name": "stdout",
     "output_type": "stream",
     "text": [
      "Média 15: 65.53\n",
      "Média 16: 65.56\n",
      "Média 17: 65.96\n",
      "Média 18: 66.05\n",
      "Média 19: 65.98\n",
      "Média 20: 66.15\n",
      "Média 21: 66.34\n",
      "Média 22: 66.16\n",
      "Média 23: 66.10\n",
      "Média 24: 66.10\n"
     ]
    }
   ],
   "source": [
    "for i in range (15,25):\n",
    "    lm = MeanPositions(i,\"LM\",\"dribbling\")\n",
    "    print(f\"Média {i}: {lm:.2f}\")"
   ]
  },
  {
   "cell_type": "markdown",
   "id": "46a44bbd-369d-4f56-afe8-2b5309a41ec9",
   "metadata": {},
   "source": [
    "MEIAS DIREITAS"
   ]
  },
  {
   "cell_type": "code",
   "execution_count": 27,
   "id": "fc7c4ee5-a4cd-4870-bc43-a896932125f7",
   "metadata": {},
   "outputs": [
    {
     "name": "stdout",
     "output_type": "stream",
     "text": [
      "Média 15: 65.46\n",
      "Média 16: 65.68\n",
      "Média 17: 65.73\n",
      "Média 18: 65.71\n",
      "Média 19: 65.71\n",
      "Média 20: 65.65\n",
      "Média 21: 65.71\n",
      "Média 22: 65.59\n",
      "Média 23: 65.52\n",
      "Média 24: 65.39\n"
     ]
    }
   ],
   "source": [
    "for i in range (15,25):\n",
    "    rm = MeanPositions(i,\"RM\",\"dribbling\")\n",
    "    print(f\"Média {i}: {rm:.2f}\")"
   ]
  },
  {
   "cell_type": "markdown",
   "id": "6a04eb03-8854-430d-8462-39d762c52f88",
   "metadata": {},
   "source": [
    "PONTAS ESQUERDAS"
   ]
  },
  {
   "cell_type": "code",
   "execution_count": 28,
   "id": "c01b8f57-8648-4886-a911-7f09a4119034",
   "metadata": {},
   "outputs": [
    {
     "name": "stdout",
     "output_type": "stream",
     "text": [
      "Média 15: 69.13\n",
      "Média 16: 69.17\n",
      "Média 17: 69.45\n",
      "Média 18: 69.14\n",
      "Média 19: 68.95\n",
      "Média 20: 68.84\n",
      "Média 21: 68.35\n",
      "Média 22: 68.02\n",
      "Média 23: 68.13\n",
      "Média 24: 68.07\n"
     ]
    }
   ],
   "source": [
    "for i in range (15,25):\n",
    "    lw = MeanPositions(i,\"LW\",\"dribbling\")\n",
    "    print(f\"Média {i}: {lw:.2f}\")"
   ]
  },
  {
   "cell_type": "markdown",
   "id": "9369d5d2-3124-46f0-8705-3b1abd0c51f9",
   "metadata": {},
   "source": [
    "PONTAS DIREITAS"
   ]
  },
  {
   "cell_type": "code",
   "execution_count": 29,
   "id": "95248ed0-2e5a-454f-bb4a-6a133c7176e5",
   "metadata": {},
   "outputs": [
    {
     "name": "stdout",
     "output_type": "stream",
     "text": [
      "Média 15: 67.22\n",
      "Média 16: 67.76\n",
      "Média 17: 67.95\n",
      "Média 18: 67.94\n",
      "Média 19: 67.85\n",
      "Média 20: 67.69\n",
      "Média 21: 67.40\n",
      "Média 22: 67.00\n",
      "Média 23: 67.08\n",
      "Média 24: 67.09\n"
     ]
    }
   ],
   "source": [
    "for i in range (15,25):\n",
    "    rw = MeanPositions(i,\"RW\",\"dribbling\")\n",
    "    print(f\"Média {i}: {rw:.2f}\")"
   ]
  },
  {
   "cell_type": "markdown",
   "id": "92760f5e-c360-44e3-8c74-25332352256a",
   "metadata": {},
   "source": [
    "SEGUNDOS ATACANTES"
   ]
  },
  {
   "cell_type": "code",
   "execution_count": 30,
   "id": "343fd6d5-ae02-4230-8944-8d4ea96a9c2c",
   "metadata": {},
   "outputs": [
    {
     "name": "stdout",
     "output_type": "stream",
     "text": [
      "Média 15: 60.03\n",
      "Média 16: 60.96\n",
      "Média 17: 60.34\n",
      "Média 18: 59.90\n",
      "Média 19: 59.87\n",
      "Média 20: 60.01\n",
      "Média 21: 60.12\n",
      "Média 22: 60.24\n",
      "Média 23: 60.53\n",
      "Média 24: 60.62\n"
     ]
    }
   ],
   "source": [
    "for i in range (15,25):\n",
    "    cf = MeanPositions(i,\"CF\",\"attacking_finishing\")\n",
    "    print(f\"Média {i}: {cf:.2f}\")"
   ]
  },
  {
   "cell_type": "markdown",
   "id": "e55aae40-6104-49c3-8967-48a026096bc4",
   "metadata": {},
   "source": [
    "CENTROAVANTES"
   ]
  },
  {
   "cell_type": "code",
   "execution_count": 31,
   "id": "ea4ac321-b69a-47d6-9005-e881e1e1a32f",
   "metadata": {},
   "outputs": [
    {
     "name": "stdout",
     "output_type": "stream",
     "text": [
      "Média 15: 65.62\n",
      "Média 16: 66.11\n",
      "Média 17: 66.32\n",
      "Média 18: 66.50\n",
      "Média 19: 66.59\n",
      "Média 20: 66.68\n",
      "Média 21: 66.76\n",
      "Média 22: 66.87\n",
      "Média 23: 66.95\n",
      "Média 24: 67.00\n"
     ]
    }
   ],
   "source": [
    "for i in range (15,25):\n",
    "    st = MeanPositions(i,\"ST\",\"attacking_finishing\")\n",
    "    print(f\"Média {i}: {st:.2f}\")"
   ]
  },
  {
   "cell_type": "markdown",
   "id": "5f1678da",
   "metadata": {},
   "source": [
    "#### Mediana e Moda"
   ]
  },
  {
   "cell_type": "markdown",
   "id": "6c385dac-9410-455b-b7aa-6acaa44ecf4a",
   "metadata": {},
   "source": [
    "Função para cálculo de médias e moda"
   ]
  },
  {
   "cell_type": "code",
   "execution_count": 32,
   "id": "cabb8995-98a2-4bdb-9214-ac05aa6db810",
   "metadata": {},
   "outputs": [],
   "source": [
    "def MedianPositions(version, position: str, hability:str):\n",
    "    players = data.loc[(data[\"fifa_version\"]<= version) & (data[\"player_positions\"] == position)]\n",
    "    players_data = players[[\"fifa_version\", \"player_positions\", \"short_name\",\"overall\", hability]]\n",
    "    players_median = np.median(players_data[hability])\n",
    "    return players_median\n",
    "\n",
    "def ModePosition(version, position: str, hability:str):\n",
    "    players = data.loc[(data[\"fifa_version\"]<= version) & (data[\"player_positions\"] == position)]\n",
    "    players_data = players[[\"fifa_version\", \"player_positions\", \"short_name\",\"overall\", hability]]\n",
    "    players_mode = stats.mode(players_data[hability])\n",
    "    return players_mode\n",
    "    "
   ]
  },
  {
   "cell_type": "markdown",
   "id": "2967fda0",
   "metadata": {},
   "source": [
    "GOLEIROS"
   ]
  },
  {
   "cell_type": "code",
   "execution_count": 33,
   "id": "bbc6ae82-fe2d-42be-91dd-617caadd7e74",
   "metadata": {
    "scrolled": true
   },
   "outputs": [
    {
     "name": "stdout",
     "output_type": "stream",
     "text": [
      "Mediana 15: 65.00\n",
      "Moda 15: ModeResult(mode=62, count=96)\n",
      "Mediana 16: 66.00\n",
      "Moda 16: ModeResult(mode=65, count=181)\n",
      "Mediana 17: 66.00\n",
      "Moda 17: ModeResult(mode=64, count=307)\n",
      "Mediana 18: 66.00\n",
      "Moda 18: ModeResult(mode=64, count=403)\n",
      "Mediana 19: 66.00\n",
      "Moda 19: ModeResult(mode=64, count=510)\n",
      "Mediana 20: 66.00\n",
      "Moda 20: ModeResult(mode=64, count=625)\n",
      "Mediana 21: 66.00\n",
      "Moda 21: ModeResult(mode=64, count=737)\n",
      "Mediana 22: 66.00\n",
      "Moda 22: ModeResult(mode=64, count=842)\n",
      "Mediana 23: 66.00\n",
      "Moda 23: ModeResult(mode=64, count=940)\n",
      "Mediana 24: 66.00\n",
      "Moda 24: ModeResult(mode=64, count=1027)\n"
     ]
    }
   ],
   "source": [
    "for i in range (15,25):\n",
    "    gk_m = MedianPositions(i,\"GK\",\"goalkeeping_reflexes\")\n",
    "    gk_mo = ModePosition(i,\"GK\",\"goalkeeping_reflexes\")\n",
    "    print(f\"Mediana {i}: {gk_m:.2f}\")\n",
    "    print(f\"Moda {i}: {gk_mo}\")"
   ]
  },
  {
   "cell_type": "markdown",
   "id": "27f1af6f",
   "metadata": {},
   "source": [
    "LATERAIS ESQUERDOS"
   ]
  },
  {
   "cell_type": "code",
   "execution_count": 34,
   "id": "b35c0dd0-882f-4535-809c-6a4ba2c4626b",
   "metadata": {},
   "outputs": [
    {
     "name": "stdout",
     "output_type": "stream",
     "text": [
      "Mediana 15: 73.00\n",
      "Moda 15: ModeResult(mode=74.0, count=38)\n",
      "Mediana 16: 73.00\n",
      "Moda 16: ModeResult(mode=76.0, count=90)\n",
      "Mediana 17: 73.00\n",
      "Moda 17: ModeResult(mode=76.0, count=140)\n",
      "Mediana 18: 72.00\n",
      "Moda 18: ModeResult(mode=76.0, count=186)\n",
      "Mediana 19: 72.00\n",
      "Moda 19: ModeResult(mode=76.0, count=213)\n",
      "Mediana 20: 72.00\n",
      "Moda 20: ModeResult(mode=74.0, count=248)\n",
      "Mediana 21: 72.00\n",
      "Moda 21: ModeResult(mode=74.0, count=290)\n",
      "Mediana 22: 72.00\n",
      "Moda 22: ModeResult(mode=74.0, count=318)\n",
      "Mediana 23: 72.00\n",
      "Moda 23: ModeResult(mode=72.0, count=344)\n",
      "Mediana 24: 72.00\n",
      "Moda 24: ModeResult(mode=72.0, count=373)\n"
     ]
    }
   ],
   "source": [
    "for i in range (15,25):\n",
    "    lb_m = MedianPositions(i,\"LB\",\"pace\")\n",
    "    lb_mo = ModePosition(i,\"LB\",\"pace\")\n",
    "    print(f\"Mediana {i}: {lb_m:.2f}\")\n",
    "    print(f\"Moda {i}: {lb_mo}\")"
   ]
  },
  {
   "cell_type": "markdown",
   "id": "7e39f6fa",
   "metadata": {},
   "source": [
    "ALAS PELA ESQUERDA"
   ]
  },
  {
   "cell_type": "code",
   "execution_count": 35,
   "id": "021ad1dc-a66f-4e3c-af62-4e99a71885fd",
   "metadata": {},
   "outputs": [
    {
     "name": "stdout",
     "output_type": "stream",
     "text": [
      "Mediana 15: 54.50\n",
      "Moda 15: ModeResult(mode=51.0, count=1)\n",
      "Mediana 16: 66.00\n",
      "Moda 16: ModeResult(mode=51.0, count=1)\n",
      "Mediana 17: 67.50\n",
      "Moda 17: ModeResult(mode=51.0, count=1)\n",
      "Mediana 18: 70.50\n",
      "Moda 18: ModeResult(mode=66.0, count=2)\n",
      "Mediana 19: 72.00\n",
      "Moda 19: ModeResult(mode=66.0, count=2)\n",
      "Mediana 20: 75.00\n",
      "Moda 20: ModeResult(mode=76.0, count=4)\n",
      "Mediana 21: 75.00\n",
      "Moda 21: ModeResult(mode=76.0, count=6)\n",
      "Mediana 22: 72.00\n",
      "Moda 22: ModeResult(mode=67.0, count=8)\n",
      "Mediana 23: 74.00\n",
      "Moda 23: ModeResult(mode=74.0, count=11)\n",
      "Mediana 24: 73.00\n",
      "Moda 24: ModeResult(mode=74.0, count=16)\n"
     ]
    }
   ],
   "source": [
    "for i in range (15,25):\n",
    "    lwb_m = MedianPositions(i,\"LWB\",\"pace\")\n",
    "    lwb_mo = ModePosition(i,\"LWB\",\"pace\")\n",
    "    print(f\"Mediana {i}: {lwb_m:.2f}\")\n",
    "    print(f\"Moda {i}: {lwb_mo}\")"
   ]
  },
  {
   "cell_type": "markdown",
   "id": "50fc7f58",
   "metadata": {},
   "source": [
    "LATERAIS DIREITOS"
   ]
  },
  {
   "cell_type": "code",
   "execution_count": 36,
   "id": "e169c6e6-a7fe-4a19-9988-a0dad8ab886c",
   "metadata": {},
   "outputs": [
    {
     "name": "stdout",
     "output_type": "stream",
     "text": [
      "Mediana 15: 72.00\n",
      "Moda 15: ModeResult(mode=72.0, count=35)\n",
      "Mediana 16: 72.00\n",
      "Moda 16: ModeResult(mode=72.0, count=64)\n",
      "Mediana 17: 72.00\n",
      "Moda 17: ModeResult(mode=72.0, count=101)\n",
      "Mediana 18: 72.00\n",
      "Moda 18: ModeResult(mode=77.0, count=130)\n",
      "Mediana 19: 73.00\n",
      "Moda 19: ModeResult(mode=77.0, count=165)\n",
      "Mediana 20: 73.00\n",
      "Moda 20: ModeResult(mode=77.0, count=206)\n",
      "Mediana 21: 72.00\n",
      "Moda 21: ModeResult(mode=77.0, count=242)\n",
      "Mediana 22: 73.00\n",
      "Moda 22: ModeResult(mode=72.0, count=269)\n",
      "Mediana 23: 73.00\n",
      "Moda 23: ModeResult(mode=72.0, count=298)\n",
      "Mediana 24: 73.00\n",
      "Moda 24: ModeResult(mode=72.0, count=321)\n"
     ]
    }
   ],
   "source": [
    "for i in range (15,25):\n",
    "    rb_m = MedianPositions(i,\"RB\",\"pace\")\n",
    "    rb_mo = ModePosition(i,\"RB\",\"pace\")\n",
    "    print(f\"Mediana {i}: {rb_m:.2f}\")\n",
    "    print(f\"Moda {i}: {rb_mo}\")"
   ]
  },
  {
   "cell_type": "markdown",
   "id": "0373e324",
   "metadata": {},
   "source": [
    "ALAS PELA DIREITA"
   ]
  },
  {
   "cell_type": "code",
   "execution_count": 37,
   "id": "93bbb6bc-ab2e-47ed-9e00-2e335961464d",
   "metadata": {},
   "outputs": [
    {
     "name": "stdout",
     "output_type": "stream",
     "text": [
      "Mediana 15: 60.00\n",
      "Moda 15: ModeResult(mode=60.0, count=1)\n",
      "Mediana 16: 73.50\n",
      "Moda 16: ModeResult(mode=60.0, count=1)\n",
      "Mediana 17: 74.50\n",
      "Moda 17: ModeResult(mode=92.0, count=2)\n",
      "Mediana 18: 73.00\n",
      "Moda 18: ModeResult(mode=73.0, count=3)\n",
      "Mediana 19: 73.00\n",
      "Moda 19: ModeResult(mode=73.0, count=4)\n",
      "Mediana 20: 74.00\n",
      "Moda 20: ModeResult(mode=71.0, count=4)\n",
      "Mediana 21: 74.50\n",
      "Moda 21: ModeResult(mode=73.0, count=5)\n",
      "Mediana 22: 75.00\n",
      "Moda 22: ModeResult(mode=73.0, count=6)\n",
      "Mediana 23: 74.00\n",
      "Moda 23: ModeResult(mode=73.0, count=11)\n",
      "Mediana 24: 74.00\n",
      "Moda 24: ModeResult(mode=73.0, count=13)\n"
     ]
    }
   ],
   "source": [
    "for i in range (15,25):\n",
    "    rwb_m = MedianPositions(i,\"RWB\",\"pace\")\n",
    "    rwb_mo = ModePosition(i,\"RWB\",\"pace\")\n",
    "    print(f\"Mediana {i}: {rwb_m:.2f}\")\n",
    "    print(f\"Moda {i}: {rwb_mo}\")"
   ]
  },
  {
   "cell_type": "markdown",
   "id": "4800ef7b",
   "metadata": {},
   "source": [
    "ZAGUEIROS"
   ]
  },
  {
   "cell_type": "code",
   "execution_count": 38,
   "id": "c9d6d636-8b64-4771-885a-58e774f159c8",
   "metadata": {},
   "outputs": [
    {
     "name": "stdout",
     "output_type": "stream",
     "text": [
      "Mediana 15: 64.00\n",
      "Moda 15: ModeResult(mode=64, count=99)\n",
      "Mediana 16: 66.00\n",
      "Moda 16: ModeResult(mode=65, count=204)\n",
      "Mediana 17: 66.00\n",
      "Moda 17: ModeResult(mode=65, count=306)\n",
      "Mediana 18: 66.00\n",
      "Moda 18: ModeResult(mode=65, count=411)\n",
      "Mediana 19: 66.00\n",
      "Moda 19: ModeResult(mode=64, count=516)\n",
      "Mediana 20: 66.00\n",
      "Moda 20: ModeResult(mode=65, count=634)\n",
      "Mediana 21: 66.00\n",
      "Moda 21: ModeResult(mode=65, count=771)\n",
      "Mediana 22: 66.00\n",
      "Moda 22: ModeResult(mode=65, count=906)\n",
      "Mediana 23: 66.00\n",
      "Moda 23: ModeResult(mode=65, count=1040)\n",
      "Mediana 24: 66.00\n",
      "Moda 24: ModeResult(mode=65, count=1157)\n"
     ]
    }
   ],
   "source": [
    "for i in range (15,25):\n",
    "    cb_m = MedianPositions(i,\"CB\",\"defending_marking_awareness\")\n",
    "    cb_mo = ModePosition(i,\"CB\",\"defending_marking_awareness\")\n",
    "    print(f\"Mediana {i}: {cb_m:.2f}\")\n",
    "    print(f\"Moda {i}: {cb_mo}\")"
   ]
  },
  {
   "cell_type": "markdown",
   "id": "fb5bd713",
   "metadata": {},
   "source": [
    "VOLANTES"
   ]
  },
  {
   "cell_type": "code",
   "execution_count": 39,
   "id": "3a4b7f1f-d29e-46c2-a6b4-d30b8675be56",
   "metadata": {},
   "outputs": [
    {
     "name": "stdout",
     "output_type": "stream",
     "text": [
      "Mediana 15: 65.00\n",
      "Moda 15: ModeResult(mode=65, count=31)\n",
      "Mediana 16: 66.00\n",
      "Moda 16: ModeResult(mode=65, count=57)\n",
      "Mediana 17: 66.00\n",
      "Moda 17: ModeResult(mode=68, count=91)\n",
      "Mediana 18: 66.00\n",
      "Moda 18: ModeResult(mode=68, count=122)\n",
      "Mediana 19: 67.00\n",
      "Moda 19: ModeResult(mode=68, count=151)\n",
      "Mediana 20: 66.00\n",
      "Moda 20: ModeResult(mode=68, count=173)\n",
      "Mediana 21: 66.00\n",
      "Moda 21: ModeResult(mode=68, count=196)\n",
      "Mediana 22: 66.00\n",
      "Moda 22: ModeResult(mode=68, count=214)\n",
      "Mediana 23: 66.00\n",
      "Moda 23: ModeResult(mode=65, count=231)\n",
      "Mediana 24: 66.00\n",
      "Moda 24: ModeResult(mode=65, count=252)\n"
     ]
    }
   ],
   "source": [
    "for i in range (15,25):\n",
    "    cdm_m = MedianPositions(i,\"CDM\",\"attacking_short_passing\")\n",
    "    cdm_mo = ModePosition(i,\"CDM\",\"attacking_short_passing\")\n",
    "    print(f\"Mediana {i}: {cdm_m:.2f}\")\n",
    "    print(f\"Moda {i}: {cdm_mo}\")"
   ]
  },
  {
   "cell_type": "markdown",
   "id": "f9c70647",
   "metadata": {},
   "source": [
    "MEIAS CENTRAIS"
   ]
  },
  {
   "cell_type": "code",
   "execution_count": 40,
   "id": "33697e3c-c293-4d4e-b5a2-1db7528e4378",
   "metadata": {},
   "outputs": [
    {
     "name": "stdout",
     "output_type": "stream",
     "text": [
      "Mediana 15: 66.00\n",
      "Moda 15: ModeResult(mode=67, count=56)\n",
      "Mediana 16: 66.00\n",
      "Moda 16: ModeResult(mode=67, count=108)\n",
      "Mediana 17: 66.00\n",
      "Moda 17: ModeResult(mode=68, count=164)\n",
      "Mediana 18: 66.00\n",
      "Moda 18: ModeResult(mode=68, count=231)\n",
      "Mediana 19: 66.00\n",
      "Moda 19: ModeResult(mode=68, count=286)\n",
      "Mediana 20: 66.00\n",
      "Moda 20: ModeResult(mode=68, count=338)\n",
      "Mediana 21: 66.00\n",
      "Moda 21: ModeResult(mode=68, count=383)\n",
      "Mediana 22: 66.00\n",
      "Moda 22: ModeResult(mode=68, count=430)\n",
      "Mediana 23: 66.00\n",
      "Moda 23: ModeResult(mode=68, count=476)\n",
      "Mediana 24: 66.00\n",
      "Moda 24: ModeResult(mode=68, count=524)\n"
     ]
    }
   ],
   "source": [
    "for i in range (15,25):\n",
    "    cm_m = MedianPositions(i,\"CM\",\"attacking_short_passing\")\n",
    "    cm_mo = ModePosition(i,\"CM\",\"attacking_short_passing\")\n",
    "    print(f\"Mediana {i}: {cm_m:.2f}\")\n",
    "    print(f\"Moda {i}: {cm_mo}\")"
   ]
  },
  {
   "cell_type": "markdown",
   "id": "2767e36d",
   "metadata": {},
   "source": [
    "MEIAS ATACANTES"
   ]
  },
  {
   "cell_type": "code",
   "execution_count": 41,
   "id": "d09aa9aa-fce3-4192-a171-64762f48fa94",
   "metadata": {},
   "outputs": [
    {
     "name": "stdout",
     "output_type": "stream",
     "text": [
      "Mediana 15: 65.00\n",
      "Moda 15: ModeResult(mode=64, count=22)\n",
      "Mediana 16: 66.00\n",
      "Moda 16: ModeResult(mode=65, count=49)\n",
      "Mediana 17: 66.00\n",
      "Moda 17: ModeResult(mode=65, count=66)\n",
      "Mediana 18: 66.00\n",
      "Moda 18: ModeResult(mode=65, count=85)\n",
      "Mediana 19: 66.00\n",
      "Moda 19: ModeResult(mode=65, count=97)\n",
      "Mediana 20: 66.00\n",
      "Moda 20: ModeResult(mode=65, count=115)\n",
      "Mediana 21: 65.00\n",
      "Moda 21: ModeResult(mode=63, count=134)\n",
      "Mediana 22: 65.00\n",
      "Moda 22: ModeResult(mode=63, count=146)\n",
      "Mediana 23: 65.00\n",
      "Moda 23: ModeResult(mode=63, count=154)\n",
      "Mediana 24: 65.00\n",
      "Moda 24: ModeResult(mode=64, count=169)\n"
     ]
    }
   ],
   "source": [
    "for i in range (15,25):\n",
    "    cam_m = MedianPositions(i,\"CAM\",\"attacking_short_passing\")\n",
    "    cam_mo = ModePosition(i,\"CAM\",\"attacking_short_passing\")\n",
    "    print(f\"Mediana {i}: {cam_m:.2f}\")\n",
    "    print(f\"Moda {i}: {cam_mo}\")"
   ]
  },
  {
   "cell_type": "markdown",
   "id": "6825f245",
   "metadata": {},
   "source": [
    "MEIAS ESQUERDAS"
   ]
  },
  {
   "cell_type": "code",
   "execution_count": 42,
   "id": "1b8e53d6-ca3f-41fd-8fa5-b18ca90214e3",
   "metadata": {},
   "outputs": [
    {
     "name": "stdout",
     "output_type": "stream",
     "text": [
      "Mediana 15: 65.00\n",
      "Moda 15: ModeResult(mode=64.0, count=17)\n",
      "Mediana 16: 65.00\n",
      "Moda 16: ModeResult(mode=65.0, count=32)\n",
      "Mediana 17: 66.00\n",
      "Moda 17: ModeResult(mode=65.0, count=53)\n",
      "Mediana 18: 66.00\n",
      "Moda 18: ModeResult(mode=65.0, count=62)\n",
      "Mediana 19: 66.00\n",
      "Moda 19: ModeResult(mode=66.0, count=78)\n",
      "Mediana 20: 66.00\n",
      "Moda 20: ModeResult(mode=65.0, count=93)\n",
      "Mediana 21: 66.00\n",
      "Moda 21: ModeResult(mode=65.0, count=114)\n",
      "Mediana 22: 66.00\n",
      "Moda 22: ModeResult(mode=65.0, count=124)\n",
      "Mediana 23: 66.00\n",
      "Moda 23: ModeResult(mode=65.0, count=132)\n",
      "Mediana 24: 66.00\n",
      "Moda 24: ModeResult(mode=65.0, count=141)\n"
     ]
    }
   ],
   "source": [
    "for i in range (15,25):\n",
    "    lm_m = MedianPositions(i,\"LM\",\"dribbling\")\n",
    "    lm_mo = ModePosition(i,\"LM\",\"dribbling\")\n",
    "    print(f\"Mediana {i}: {lm_m:.2f}\")\n",
    "    print(f\"Moda {i}: {lm_mo}\")"
   ]
  },
  {
   "cell_type": "markdown",
   "id": "e41955b6",
   "metadata": {},
   "source": [
    "PONTAS ESQUERDAS"
   ]
  },
  {
   "cell_type": "code",
   "execution_count": 43,
   "id": "081350cd-b8f4-4da3-a599-880343b7a77c",
   "metadata": {},
   "outputs": [
    {
     "name": "stdout",
     "output_type": "stream",
     "text": [
      "Mediana 15: 69.00\n",
      "Moda 15: ModeResult(mode=67.0, count=10)\n",
      "Mediana 16: 68.50\n",
      "Moda 16: ModeResult(mode=67.0, count=15)\n",
      "Mediana 17: 69.00\n",
      "Moda 17: ModeResult(mode=67.0, count=21)\n",
      "Mediana 18: 68.00\n",
      "Moda 18: ModeResult(mode=67.0, count=27)\n",
      "Mediana 19: 68.00\n",
      "Moda 19: ModeResult(mode=67.0, count=30)\n",
      "Mediana 20: 68.00\n",
      "Moda 20: ModeResult(mode=67.0, count=40)\n",
      "Mediana 21: 68.00\n",
      "Moda 21: ModeResult(mode=67.0, count=43)\n",
      "Mediana 22: 67.00\n",
      "Moda 22: ModeResult(mode=67.0, count=47)\n",
      "Mediana 23: 68.00\n",
      "Moda 23: ModeResult(mode=67.0, count=52)\n",
      "Mediana 24: 68.00\n",
      "Moda 24: ModeResult(mode=67.0, count=56)\n"
     ]
    }
   ],
   "source": [
    "for i in range (15,25):\n",
    "    lw_m = MedianPositions(i,\"LW\",\"dribbling\")\n",
    "    lw_mo = ModePosition(i,\"LW\",\"dribbling\")\n",
    "    print(f\"Mediana {i}: {lw_m:.2f}\")\n",
    "    print(f\"Moda {i}: {lw_mo}\")"
   ]
  },
  {
   "cell_type": "markdown",
   "id": "a5ecad94",
   "metadata": {},
   "source": [
    "PONTAS DIREITAS"
   ]
  },
  {
   "cell_type": "code",
   "execution_count": 44,
   "id": "1bdd0963-84a1-4994-840f-d05db39fe0a3",
   "metadata": {},
   "outputs": [
    {
     "name": "stdout",
     "output_type": "stream",
     "text": [
      "Mediana 15: 67.00\n",
      "Moda 15: ModeResult(mode=75.0, count=11)\n",
      "Mediana 16: 68.00\n",
      "Moda 16: ModeResult(mode=75.0, count=16)\n",
      "Mediana 17: 68.00\n",
      "Moda 17: ModeResult(mode=72.0, count=21)\n",
      "Mediana 18: 68.00\n",
      "Moda 18: ModeResult(mode=72.0, count=27)\n",
      "Mediana 19: 68.00\n",
      "Moda 19: ModeResult(mode=65.0, count=30)\n",
      "Mediana 20: 67.00\n",
      "Moda 20: ModeResult(mode=66.0, count=34)\n",
      "Mediana 21: 67.00\n",
      "Moda 21: ModeResult(mode=68.0, count=41)\n",
      "Mediana 22: 67.00\n",
      "Moda 22: ModeResult(mode=65.0, count=46)\n",
      "Mediana 23: 67.00\n",
      "Moda 23: ModeResult(mode=65.0, count=49)\n",
      "Mediana 24: 67.00\n",
      "Moda 24: ModeResult(mode=68.0, count=56)\n"
     ]
    }
   ],
   "source": [
    "for i in range (15,25):\n",
    "    rw_m = MedianPositions(i,\"RW\",\"dribbling\")\n",
    "    rw_mo = ModePosition(i,\"RW\",\"dribbling\")\n",
    "    print(f\"Mediana {i}: {rw_m:.2f}\")\n",
    "    print(f\"Moda {i}: {rw_mo}\")"
   ]
  },
  {
   "cell_type": "markdown",
   "id": "da378ba5",
   "metadata": {},
   "source": [
    "MEIAS DIREITAS"
   ]
  },
  {
   "cell_type": "code",
   "execution_count": 45,
   "id": "3a12fa84-1bb1-4a1f-adfb-a1b1192db010",
   "metadata": {},
   "outputs": [
    {
     "name": "stdout",
     "output_type": "stream",
     "text": [
      "Mediana 15: 66.00\n",
      "Moda 15: ModeResult(mode=69.0, count=16)\n",
      "Mediana 16: 66.00\n",
      "Moda 16: ModeResult(mode=71.0, count=28)\n",
      "Mediana 17: 66.00\n",
      "Moda 17: ModeResult(mode=65.0, count=46)\n",
      "Mediana 18: 66.00\n",
      "Moda 18: ModeResult(mode=65.0, count=68)\n",
      "Mediana 19: 66.00\n",
      "Moda 19: ModeResult(mode=65.0, count=77)\n",
      "Mediana 20: 66.00\n",
      "Moda 20: ModeResult(mode=67.0, count=98)\n",
      "Mediana 21: 66.00\n",
      "Moda 21: ModeResult(mode=67.0, count=111)\n",
      "Mediana 22: 66.00\n",
      "Moda 22: ModeResult(mode=67.0, count=119)\n",
      "Mediana 23: 66.00\n",
      "Moda 23: ModeResult(mode=67.0, count=129)\n",
      "Mediana 24: 65.00\n",
      "Moda 24: ModeResult(mode=67.0, count=133)\n"
     ]
    }
   ],
   "source": [
    "for i in range (15,25):\n",
    "    rm_m = MedianPositions(i,\"RM\",\"dribbling\")\n",
    "    rm_mo = ModePosition(i,\"RM\",\"dribbling\")\n",
    "    print(f\"Mediana {i}: {rm_m:.2f}\")\n",
    "    print(f\"Moda {i}: {rm_mo}\")"
   ]
  },
  {
   "cell_type": "markdown",
   "id": "5faf85d5",
   "metadata": {},
   "source": [
    "SEGUNDOS ATACANTES"
   ]
  },
  {
   "cell_type": "code",
   "execution_count": 46,
   "id": "93488aab-ede8-46c7-971d-fe2421200b49",
   "metadata": {},
   "outputs": [
    {
     "name": "stdout",
     "output_type": "stream",
     "text": [
      "Mediana 15: 58.00\n",
      "Moda 15: ModeResult(mode=55, count=4)\n",
      "Mediana 16: 59.00\n",
      "Moda 16: ModeResult(mode=55, count=5)\n",
      "Mediana 17: 59.00\n",
      "Moda 17: ModeResult(mode=55, count=7)\n",
      "Mediana 18: 59.00\n",
      "Moda 18: ModeResult(mode=55, count=8)\n",
      "Mediana 19: 59.00\n",
      "Moda 19: ModeResult(mode=55, count=9)\n",
      "Mediana 20: 59.00\n",
      "Moda 20: ModeResult(mode=55, count=9)\n",
      "Mediana 21: 59.00\n",
      "Moda 21: ModeResult(mode=59, count=10)\n",
      "Mediana 22: 59.00\n",
      "Moda 22: ModeResult(mode=59, count=12)\n",
      "Mediana 23: 60.00\n",
      "Moda 23: ModeResult(mode=59, count=12)\n",
      "Mediana 24: 60.00\n",
      "Moda 24: ModeResult(mode=59, count=12)\n"
     ]
    }
   ],
   "source": [
    "for i in range (15,25):\n",
    "    cf_m = MedianPositions(i,\"CF\",\"attacking_finishing\")\n",
    "    cf_mo = ModePosition(i,\"CF\",\"attacking_finishing\")\n",
    "    print(f\"Mediana {i}: {cf_m:.2f}\")\n",
    "    print(f\"Moda {i}: {cf_mo}\")"
   ]
  },
  {
   "cell_type": "markdown",
   "id": "0913ab79",
   "metadata": {},
   "source": [
    "CENTROAVANTES"
   ]
  },
  {
   "cell_type": "code",
   "execution_count": 47,
   "id": "2ee2b5dd-202f-46a3-8bbc-b3a56a3c2acc",
   "metadata": {},
   "outputs": [
    {
     "name": "stdout",
     "output_type": "stream",
     "text": [
      "Mediana 15: 65.00\n",
      "Moda 15: ModeResult(mode=63, count=98)\n",
      "Mediana 16: 66.00\n",
      "Moda 16: ModeResult(mode=65, count=208)\n",
      "Mediana 17: 66.00\n",
      "Moda 17: ModeResult(mode=65, count=346)\n",
      "Mediana 18: 66.00\n",
      "Moda 18: ModeResult(mode=65, count=460)\n",
      "Mediana 19: 66.00\n",
      "Moda 19: ModeResult(mode=65, count=565)\n",
      "Mediana 20: 66.00\n",
      "Moda 20: ModeResult(mode=65, count=672)\n",
      "Mediana 21: 66.00\n",
      "Moda 21: ModeResult(mode=65, count=778)\n",
      "Mediana 22: 66.00\n",
      "Moda 22: ModeResult(mode=65, count=882)\n",
      "Mediana 23: 67.00\n",
      "Moda 23: ModeResult(mode=65, count=978)\n",
      "Mediana 24: 67.00\n",
      "Moda 24: ModeResult(mode=65, count=1075)\n"
     ]
    }
   ],
   "source": [
    "for i in range (15,25):\n",
    "    st_m = MedianPositions(i,\"ST\",\"attacking_finishing\")\n",
    "    st_mo = ModePosition(i,\"ST\",\"attacking_finishing\")\n",
    "    print(f\"Mediana {i}: {st_m:.2f}\")\n",
    "    print(f\"Moda {i}: {st_mo}\")"
   ]
  },
  {
   "cell_type": "markdown",
   "id": "5cbfdd47-e5a3-4e00-9d77-ea9fbef4b430",
   "metadata": {},
   "source": [
    "### Medidas de dispersão "
   ]
  },
  {
   "cell_type": "markdown",
   "id": "8e958f10",
   "metadata": {},
   "source": [
    "### Boxplot"
   ]
  }
 ],
 "metadata": {
  "kernelspec": {
   "display_name": "Python 3 (ipykernel)",
   "language": "python",
   "name": "python3"
  },
  "language_info": {
   "codemirror_mode": {
    "name": "ipython",
    "version": 3
   },
   "file_extension": ".py",
   "mimetype": "text/x-python",
   "name": "python",
   "nbconvert_exporter": "python",
   "pygments_lexer": "ipython3",
   "version": "3.11.3"
  }
 },
 "nbformat": 4,
 "nbformat_minor": 5
}
